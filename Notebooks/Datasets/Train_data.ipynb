{
 "cells": [
  {
   "cell_type": "code",
   "execution_count": 15,
   "metadata": {},
   "outputs": [],
   "source": [
    "# Import Libreries\n",
    "import pandas as pd\n",
    "import numpy as np\n",
    "import matplotlib.pyplot as plt\n",
    "import seaborn as sns\n",
    "from sklearn.metrics import mean_squared_error, r2_score\n",
    "from sklearn.neighbors import KNeighborsRegressor\n",
    "from sklearn.tree import DecisionTreeRegressor\n",
    "from sklearn.ensemble import RandomForestRegressor, AdaBoostRegressor\n",
    "from sklearn.svm import SVR\n",
    "from sklearn.linear_model import LinearRegression, Ridge, Lasso\n",
    "from sklearn.metrics import r2_score, mean_absolute_error, mean_squared_error\n",
    "from sklearn.model_selection import RandomizedSearchCV\n",
    "from catboost import CatBoostRegressor\n",
    "from xgboost import XGBRegressor\n",
    "from sklearn.model_selection import train_test_split\n",
    "import warnings"
   ]
  },
  {
   "cell_type": "code",
   "execution_count": 4,
   "metadata": {},
   "outputs": [],
   "source": [
    "data = pd.read_csv('StudentsPerformance.csv')"
   ]
  },
  {
   "cell_type": "code",
   "execution_count": 5,
   "metadata": {},
   "outputs": [
    {
     "data": {
      "text/html": [
       "<div>\n",
       "<style scoped>\n",
       "    .dataframe tbody tr th:only-of-type {\n",
       "        vertical-align: middle;\n",
       "    }\n",
       "\n",
       "    .dataframe tbody tr th {\n",
       "        vertical-align: top;\n",
       "    }\n",
       "\n",
       "    .dataframe thead th {\n",
       "        text-align: right;\n",
       "    }\n",
       "</style>\n",
       "<table border=\"1\" class=\"dataframe\">\n",
       "  <thead>\n",
       "    <tr style=\"text-align: right;\">\n",
       "      <th></th>\n",
       "      <th>gender</th>\n",
       "      <th>race/ethnicity</th>\n",
       "      <th>parental level of education</th>\n",
       "      <th>lunch</th>\n",
       "      <th>test preparation course</th>\n",
       "      <th>math score</th>\n",
       "      <th>reading score</th>\n",
       "      <th>writing score</th>\n",
       "    </tr>\n",
       "  </thead>\n",
       "  <tbody>\n",
       "    <tr>\n",
       "      <th>0</th>\n",
       "      <td>female</td>\n",
       "      <td>group B</td>\n",
       "      <td>bachelor's degree</td>\n",
       "      <td>standard</td>\n",
       "      <td>none</td>\n",
       "      <td>72</td>\n",
       "      <td>72</td>\n",
       "      <td>74</td>\n",
       "    </tr>\n",
       "    <tr>\n",
       "      <th>1</th>\n",
       "      <td>female</td>\n",
       "      <td>group C</td>\n",
       "      <td>some college</td>\n",
       "      <td>standard</td>\n",
       "      <td>completed</td>\n",
       "      <td>69</td>\n",
       "      <td>90</td>\n",
       "      <td>88</td>\n",
       "    </tr>\n",
       "    <tr>\n",
       "      <th>2</th>\n",
       "      <td>female</td>\n",
       "      <td>group B</td>\n",
       "      <td>master's degree</td>\n",
       "      <td>standard</td>\n",
       "      <td>none</td>\n",
       "      <td>90</td>\n",
       "      <td>95</td>\n",
       "      <td>93</td>\n",
       "    </tr>\n",
       "    <tr>\n",
       "      <th>3</th>\n",
       "      <td>male</td>\n",
       "      <td>group A</td>\n",
       "      <td>associate's degree</td>\n",
       "      <td>free/reduced</td>\n",
       "      <td>none</td>\n",
       "      <td>47</td>\n",
       "      <td>57</td>\n",
       "      <td>44</td>\n",
       "    </tr>\n",
       "    <tr>\n",
       "      <th>4</th>\n",
       "      <td>male</td>\n",
       "      <td>group C</td>\n",
       "      <td>some college</td>\n",
       "      <td>standard</td>\n",
       "      <td>none</td>\n",
       "      <td>76</td>\n",
       "      <td>78</td>\n",
       "      <td>75</td>\n",
       "    </tr>\n",
       "  </tbody>\n",
       "</table>\n",
       "</div>"
      ],
      "text/plain": [
       "   gender race/ethnicity parental level of education         lunch  \\\n",
       "0  female        group B           bachelor's degree      standard   \n",
       "1  female        group C                some college      standard   \n",
       "2  female        group B             master's degree      standard   \n",
       "3    male        group A          associate's degree  free/reduced   \n",
       "4    male        group C                some college      standard   \n",
       "\n",
       "  test preparation course  math score  reading score  writing score  \n",
       "0                    none          72             72             74  \n",
       "1               completed          69             90             88  \n",
       "2                    none          90             95             93  \n",
       "3                    none          47             57             44  \n",
       "4                    none          76             78             75  "
      ]
     },
     "execution_count": 5,
     "metadata": {},
     "output_type": "execute_result"
    }
   ],
   "source": [
    "data.head()"
   ]
  },
  {
   "cell_type": "code",
   "execution_count": 6,
   "metadata": {},
   "outputs": [
    {
     "data": {
      "text/plain": [
       "Index(['gender', 'race/ethnicity', 'parental level of education', 'lunch',\n",
       "       'test preparation course', 'math score', 'reading score',\n",
       "       'writing score'],\n",
       "      dtype='object')"
      ]
     },
     "execution_count": 6,
     "metadata": {},
     "output_type": "execute_result"
    }
   ],
   "source": [
    "data.columns"
   ]
  },
  {
   "cell_type": "code",
   "execution_count": 24,
   "metadata": {},
   "outputs": [
    {
     "data": {
      "text/plain": [
       "(1000, 9)"
      ]
     },
     "execution_count": 24,
     "metadata": {},
     "output_type": "execute_result"
    }
   ],
   "source": [
    "data[\"average_score\"] = (data[\"math score\"] + data[\"reading score\"]+data[\"writing score\"])/3\n",
    "data.shape"
   ]
  },
  {
   "cell_type": "code",
   "execution_count": 25,
   "metadata": {},
   "outputs": [
    {
     "data": {
      "text/plain": [
       "Index(['gender', 'race/ethnicity', 'parental level of education', 'lunch',\n",
       "       'test preparation course', 'math score', 'reading score',\n",
       "       'writing score'],\n",
       "      dtype='object')"
      ]
     },
     "execution_count": 25,
     "metadata": {},
     "output_type": "execute_result"
    }
   ],
   "source": [
    "X = data.drop(\"average_score\",axis=1)\n",
    "y = data[\"average_score\"]\n",
    "X.columns"
   ]
  },
  {
   "cell_type": "code",
   "execution_count": 26,
   "metadata": {},
   "outputs": [],
   "source": [
    "num_features = X.select_dtypes(exclude=\"object\").columns\n",
    "cat_features = X.select_dtypes(include=\"object\").columns"
   ]
  },
  {
   "cell_type": "code",
   "execution_count": 27,
   "metadata": {},
   "outputs": [],
   "source": [
    "from sklearn.preprocessing import OneHotEncoder, StandardScaler\n",
    "from sklearn.compose import ColumnTransformer\n",
    "\n",
    "numeric_features = StandardScaler()\n",
    "oh_transformer = OneHotEncoder()\n",
    "\n",
    "preprocessor = ColumnTransformer(\n",
    "    [\n",
    "        (\"OneHotEncoder\",oh_transformer, cat_features),\n",
    "        (\"StandardScaler\", numeric_features, num_features)\n",
    "    ]\n",
    ")"
   ]
  },
  {
   "cell_type": "code",
   "execution_count": 28,
   "metadata": {},
   "outputs": [],
   "source": [
    "X = preprocessor.fit_transform(X)"
   ]
  },
  {
   "cell_type": "code",
   "execution_count": 29,
   "metadata": {},
   "outputs": [
    {
     "data": {
      "text/plain": [
       "(1000, 20)"
      ]
     },
     "execution_count": 29,
     "metadata": {},
     "output_type": "execute_result"
    }
   ],
   "source": [
    "X.shape"
   ]
  },
  {
   "cell_type": "code",
   "execution_count": 31,
   "metadata": {},
   "outputs": [
    {
     "data": {
      "text/plain": [
       "((800, 20), (200, 20), (800,), (200,))"
      ]
     },
     "execution_count": 31,
     "metadata": {},
     "output_type": "execute_result"
    }
   ],
   "source": [
    "x_train, x_test, y_train, y_test = train_test_split(X, y, test_size =0.2, random_state =42)\n",
    "x_train.shape, x_test.shape, y_train.shape, y_test.shape"
   ]
  },
  {
   "cell_type": "code",
   "execution_count": 32,
   "metadata": {},
   "outputs": [
    {
     "data": {
      "text/plain": [
       "array([[ 1.        ,  0.        ,  0.        , ..., -0.2698031 ,\n",
       "         0.05694554,  0.45733301],\n",
       "       [ 1.        ,  0.        ,  0.        , ..., -0.00587246,\n",
       "         0.94779033,  0.98406266],\n",
       "       [ 1.        ,  0.        ,  0.        , ...,  0.85190214,\n",
       "         1.35894946,  1.18158627],\n",
       "       ...,\n",
       "       [ 1.        ,  0.        ,  0.        , ..., -0.86364705,\n",
       "        -0.49126664, -0.99117351],\n",
       "       [ 0.        ,  1.        ,  0.        , ..., -1.06159503,\n",
       "        -1.45063795, -0.99117351],\n",
       "       [ 1.        ,  0.        ,  0.        , ...,  1.2477981 ,\n",
       "         1.4960025 ,  1.37910989]])"
      ]
     },
     "execution_count": 32,
     "metadata": {},
     "output_type": "execute_result"
    }
   ],
   "source": [
    "x_train"
   ]
  },
  {
   "cell_type": "code",
   "execution_count": 42,
   "metadata": {},
   "outputs": [],
   "source": [
    "def evaluate(true, predict):\n",
    "    mae = mean_absolute_error(true, predict)\n",
    "    mse = mean_squared_error(true, predict)\n",
    "    rmse = np.sqrt(true, predict)\n",
    "    r2_sqrt = r2_score(true, predict)\n",
    "    return mae, rmse, r2_sqrt"
   ]
  },
  {
   "cell_type": "code",
   "execution_count": 50,
   "metadata": {},
   "outputs": [
    {
     "name": "stdout",
     "output_type": "stream",
     "text": [
      "Linear Regression\n",
      "Model performance for Training set\n",
      "- Root Mean Squared Error: 29     8.306624\n",
      "535    8.793937\n",
      "695    9.201449\n",
      "557    8.041559\n",
      "836    8.041559\n",
      "         ...   \n",
      "106    9.780934\n",
      "270    8.020806\n",
      "860    7.483315\n",
      "435    7.094599\n",
      "102    9.398581\n",
      "Name: average_score, Length: 800, dtype: float64\n",
      "- Mean Absolute Error: 2.3141488725286763e-14\n",
      "- R2 Score: -17.904944719886466\n",
      " ---\n",
      "===================================\n",
      "\n",
      "\n",
      "Lasso\n",
      "Model performance for Training set\n",
      "- Root Mean Squared Error: 29     8.306624\n",
      "535    8.793937\n",
      "695    9.201449\n",
      "557    8.041559\n",
      "836    8.041559\n",
      "         ...   \n",
      "106    9.780934\n",
      "270    8.020806\n",
      "860    7.483315\n",
      "435    7.094599\n",
      "102    9.398581\n",
      "Name: average_score, Length: 800, dtype: float64\n",
      "- Mean Absolute Error: 2.3141488725286763e-14\n",
      "- R2 Score: -17.904944719886466\n",
      " ---\n",
      "===================================\n",
      "\n",
      "\n",
      "Ridge\n",
      "Model performance for Training set\n",
      "- Root Mean Squared Error: 29     8.306624\n",
      "535    8.793937\n",
      "695    9.201449\n",
      "557    8.041559\n",
      "836    8.041559\n",
      "         ...   \n",
      "106    9.780934\n",
      "270    8.020806\n",
      "860    7.483315\n",
      "435    7.094599\n",
      "102    9.398581\n",
      "Name: average_score, Length: 800, dtype: float64\n",
      "- Mean Absolute Error: 2.3141488725286763e-14\n",
      "- R2 Score: -17.904944719886466\n",
      " ---\n",
      "===================================\n",
      "\n",
      "\n",
      "K-Neighbors Regressor\n",
      "Model performance for Training set\n",
      "- Root Mean Squared Error: 29     8.306624\n",
      "535    8.793937\n",
      "695    9.201449\n",
      "557    8.041559\n",
      "836    8.041559\n",
      "         ...   \n",
      "106    9.780934\n",
      "270    8.020806\n",
      "860    7.483315\n",
      "435    7.094599\n",
      "102    9.398581\n",
      "Name: average_score, Length: 800, dtype: float64\n",
      "- Mean Absolute Error: 2.3141488725286763e-14\n",
      "- R2 Score: -17.904944719886466\n",
      " ---\n",
      "===================================\n",
      "\n",
      "\n",
      "Decision Tree\n",
      "Model performance for Training set\n",
      "- Root Mean Squared Error: 29     8.306624\n",
      "535    8.793937\n",
      "695    9.201449\n",
      "557    8.041559\n",
      "836    8.041559\n",
      "         ...   \n",
      "106    9.780934\n",
      "270    8.020806\n",
      "860    7.483315\n",
      "435    7.094599\n",
      "102    9.398581\n",
      "Name: average_score, Length: 800, dtype: float64\n",
      "- Mean Absolute Error: 2.3141488725286763e-14\n",
      "- R2 Score: -17.904944719886466\n",
      " ---\n",
      "===================================\n",
      "\n",
      "\n",
      "Random Forest Regressor\n",
      "Model performance for Training set\n",
      "- Root Mean Squared Error: 29     8.306624\n",
      "535    8.793937\n",
      "695    9.201449\n",
      "557    8.041559\n",
      "836    8.041559\n",
      "         ...   \n",
      "106    9.780934\n",
      "270    8.020806\n",
      "860    7.483315\n",
      "435    7.094599\n",
      "102    9.398581\n",
      "Name: average_score, Length: 800, dtype: float64\n",
      "- Mean Absolute Error: 2.3141488725286763e-14\n",
      "- R2 Score: -17.904944719886466\n",
      " ---\n",
      "===================================\n",
      "\n",
      "\n",
      "XGBRegressor\n",
      "Model performance for Training set\n",
      "- Root Mean Squared Error: 29     8.306624\n",
      "535    8.793937\n",
      "695    9.201449\n",
      "557    8.041559\n",
      "836    8.041559\n",
      "         ...   \n",
      "106    9.780934\n",
      "270    8.020806\n",
      "860    7.483315\n",
      "435    7.094599\n",
      "102    9.398581\n",
      "Name: average_score, Length: 800, dtype: float64\n",
      "- Mean Absolute Error: 2.3141488725286763e-14\n",
      "- R2 Score: -17.904944719886466\n",
      " ---\n",
      "===================================\n",
      "\n",
      "\n"
     ]
    },
    {
     "name": "stderr",
     "output_type": "stream",
     "text": [
      "e:\\ALL PROGRAMS\\GIT HUB PROJECTS\\Natural Language Processing\\End to End Projects on GitHub\\Git_Hub_Section\\ML_project\\ML_env\\lib\\site-packages\\xgboost\\data.py:520: FutureWarning: is_sparse is deprecated and will be removed in a future version. Check `isinstance(dtype, pd.SparseDtype)` instead.\n",
      "  if is_sparse(data):\n"
     ]
    },
    {
     "name": "stdout",
     "output_type": "stream",
     "text": [
      "CatBoosting Regressor\n",
      "Model performance for Training set\n",
      "- Root Mean Squared Error: 29     8.306624\n",
      "535    8.793937\n",
      "695    9.201449\n",
      "557    8.041559\n",
      "836    8.041559\n",
      "         ...   \n",
      "106    9.780934\n",
      "270    8.020806\n",
      "860    7.483315\n",
      "435    7.094599\n",
      "102    9.398581\n",
      "Name: average_score, Length: 800, dtype: float64\n",
      "- Mean Absolute Error: 2.3141488725286763e-14\n",
      "- R2 Score: -17.904944719886466\n",
      " ---\n",
      "===================================\n",
      "\n",
      "\n",
      "AdiaBoost Regressor\n",
      "Model performance for Training set\n",
      "- Root Mean Squared Error: 29     8.306624\n",
      "535    8.793937\n",
      "695    9.201449\n",
      "557    8.041559\n",
      "836    8.041559\n",
      "         ...   \n",
      "106    9.780934\n",
      "270    8.020806\n",
      "860    7.483315\n",
      "435    7.094599\n",
      "102    9.398581\n",
      "Name: average_score, Length: 800, dtype: float64\n",
      "- Mean Absolute Error: 2.3141488725286763e-14\n",
      "- R2 Score: -17.904944719886466\n",
      " ---\n",
      "===================================\n",
      "\n",
      "\n"
     ]
    }
   ],
   "source": [
    "models = {\n",
    "    \"Linear Regression\": LinearRegression (),\n",
    "    \"Lasso\": Lasso (),\n",
    "    \"Ridge\": Ridge(),\n",
    "    \"K-Neighbors Regressor\": KNeighborsRegressor(),\n",
    "    \"Decision Tree\": DecisionTreeRegressor (),\n",
    "    \"Random Forest Regressor\": RandomForestRegressor (),\n",
    "    \"XGBRegressor\": XGBRegressor(),\n",
    "    \"CatBoosting Regressor\": CatBoostRegressor (verbose=False),\n",
    "    \"AdiaBoost Regressor\": AdaBoostRegressor()\n",
    "}\n",
    "model_list = []\n",
    "r2_list = []\n",
    "for i in range (len (list(models) )):\n",
    "    model = list(models.values()) [i] \n",
    "    model.fit(x_train, y_train) # Train model\n",
    "\n",
    "    # Make predictions\n",
    "    y_train_pred = model.predict(x_train)\n",
    "    y_test_pred = model.predict(x_test)\n",
    "\n",
    "\n",
    "\n",
    "    print (list (models.keys())[i])\n",
    "    model_list.append(list (models.keys()) [i])\n",
    "\n",
    "\n",
    "    # Assuming you have defined model_train_rmse and model_train_mae earlier\n",
    "    print('Model performance for Training set')\n",
    "    print(\"- Root Mean Squared Error: {}\".format(model_train_rmse))\n",
    "    print(\"- Mean Absolute Error: {}\".format(model_train_mae))\n",
    "    print(\"- R2 Score: {}\".format(model_train_r2))\n",
    "    print(' ---')\n",
    "    r2_list.append(model_test_r2)\n",
    "    print('=' *35)\n",
    "    print('\\n') "
   ]
  },
  {
   "cell_type": "code",
   "execution_count": null,
   "metadata": {},
   "outputs": [],
   "source": []
  },
  {
   "cell_type": "code",
   "execution_count": null,
   "metadata": {},
   "outputs": [],
   "source": []
  }
 ],
 "metadata": {
  "kernelspec": {
   "display_name": "ML_env",
   "language": "python",
   "name": "python3"
  },
  "language_info": {
   "codemirror_mode": {
    "name": "ipython",
    "version": 3
   },
   "file_extension": ".py",
   "mimetype": "text/x-python",
   "name": "python",
   "nbconvert_exporter": "python",
   "pygments_lexer": "ipython3",
   "version": "3.9.5"
  },
  "orig_nbformat": 4
 },
 "nbformat": 4,
 "nbformat_minor": 2
}
